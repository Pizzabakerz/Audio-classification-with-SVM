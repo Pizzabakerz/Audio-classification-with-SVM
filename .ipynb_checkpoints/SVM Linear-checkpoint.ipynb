{
 "cells": [
  {
   "cell_type": "code",
   "execution_count": 17,
   "metadata": {},
   "outputs": [],
   "source": [
    "import librosa\n",
    "import pandas as pd\n",
    "import numpy as np\n",
    "import os\n",
    "from glob import glob\n",
    "import matplotlib.pyplot as plt\n",
    "from scipy.io import wavfile\n",
    "from sklearn.model_selection import train_test_split  \n",
    "from sklearn.metrics import classification_report, confusion_matrix  \n",
    "%matplotlib inline\n",
    "from sklearn.svm import SVC  \n",
    "import warnings\n",
    "warnings.filterwarnings('ignore')"
   ]
  },
  {
   "cell_type": "code",
   "execution_count": 18,
   "metadata": {},
   "outputs": [
    {
     "name": "stdout",
     "output_type": "stream",
     "text": [
      "<class 'numpy.ndarray'> <class 'int'>\n",
      "[-3.8226531e-03 -5.3708917e-03 -4.4372473e-03 ... -9.3773224e-06\n",
      "  1.2247583e-05 -3.6367885e-05]\n"
     ]
    }
   ],
   "source": [
    "x , sr = librosa.load(\"wavfiles/00353774.wav\")\n",
    "print(type(x), type(sr))\n",
    "print(x)"
   ]
  },
  {
   "cell_type": "code",
   "execution_count": 19,
   "metadata": {},
   "outputs": [
    {
     "data": {
      "image/png": "[encoded data removed]",
      "text/plain": [
       "<Figure size 432x288 with 1 Axes>"
      ]
     },
     "metadata": {},
     "output_type": "display_data"
    },
    {
     "data": {
      "text/html": [
       "<div>\n",
       "<style scoped>\n",
       "    .dataframe tbody tr th:only-of-type {\n",
       "        vertical-align: middle;\n",
       "    }\n",
       "\n",
       "    .dataframe tbody tr th {\n",
       "        vertical-align: top;\n",
       "    }\n",
       "\n",
       "    .dataframe thead th {\n",
       "        text-align: right;\n",
       "    }\n",
       "</style>\n",
       "<table border=\"1\" class=\"dataframe\">\n",
       "  <thead>\n",
       "    <tr style=\"text-align: right;\">\n",
       "      <th></th>\n",
       "      <th>label</th>\n",
       "      <th>length</th>\n",
       "    </tr>\n",
       "    <tr>\n",
       "      <th>fname</th>\n",
       "      <th></th>\n",
       "      <th></th>\n",
       "    </tr>\n",
       "  </thead>\n",
       "  <tbody>\n",
       "    <tr>\n",
       "      <th>5388d14d.wav</th>\n",
       "      <td>Saxophone</td>\n",
       "      <td>4.140000</td>\n",
       "    </tr>\n",
       "    <tr>\n",
       "      <th>c685f05f.wav</th>\n",
       "      <td>Saxophone</td>\n",
       "      <td>1.540000</td>\n",
       "    </tr>\n",
       "    <tr>\n",
       "      <th>36d20ab5.wav</th>\n",
       "      <td>Saxophone</td>\n",
       "      <td>4.789342</td>\n",
       "    </tr>\n",
       "    <tr>\n",
       "      <th>d6665734.wav</th>\n",
       "      <td>Saxophone</td>\n",
       "      <td>10.154989</td>\n",
       "    </tr>\n",
       "    <tr>\n",
       "      <th>7352e28f.wav</th>\n",
       "      <td>Saxophone</td>\n",
       "      <td>6.240000</td>\n",
       "    </tr>\n",
       "  </tbody>\n",
       "</table>\n",
       "</div>"
      ],
      "text/plain": [
       "                  label     length\n",
       "fname                             \n",
       "5388d14d.wav  Saxophone   4.140000\n",
       "c685f05f.wav  Saxophone   1.540000\n",
       "36d20ab5.wav  Saxophone   4.789342\n",
       "d6665734.wav  Saxophone  10.154989\n",
       "7352e28f.wav  Saxophone   6.240000"
      ]
     },
     "execution_count": 19,
     "metadata": {},
     "output_type": "execute_result"
    }
   ],
   "source": [
    "df = pd.read_csv('instruments.csv')\n",
    "df.set_index('fname', inplace=True)\n",
    "\n",
    "for f in df.index:\n",
    "    rate, signal = wavfile.read('clean/'+f)\n",
    "    df.at[f, 'length'] = signal.shape[0]/rate\n",
    "\n",
    "classes = list(np.unique(df.label))\n",
    "class_dist = df.groupby(['label'])['length'].mean()\n",
    "\n",
    "fig, ax = plt.subplots()\n",
    "ax.set_title('Class Distribution', y=1.08)\n",
    "ax.pie(class_dist, labels=class_dist.index, autopct='%1.1f%%',\n",
    "       shadow=False, startangle=90)\n",
    "ax.axis('equal')\n",
    "plt.show()\n",
    "\n",
    "#print(class_dist)\n",
    "#print(df)\n",
    "#print(signal,rate)\n",
    "df.head()"
   ]
  },
  {
   "cell_type": "code",
   "execution_count": 20,
   "metadata": {},
   "outputs": [
    {
     "name": "stdout",
     "output_type": "stream",
     "text": [
      "<class 'numpy.ndarray'>\n",
      "<class 'pandas.core.series.Series'>\n"
     ]
    }
   ],
   "source": [
    "X = df.length\n",
    "y = df.label\n",
    "print(type(x))\n",
    "print(type(y))\n",
    "#B = np.reshape(y, (-1, 1))"
   ]
  },
  {
   "cell_type": "code",
   "execution_count": 21,
   "metadata": {},
   "outputs": [],
   "source": [
    "X_train, X_test, y_train, y_test = train_test_split(X, y, test_size = 0.20)  "
   ]
  },
  {
   "cell_type": "markdown",
   "metadata": {},
   "source": [
    "# Linear Kernel"
   ]
  },
  {
   "cell_type": "code",
   "execution_count": 22,
   "metadata": {},
   "outputs": [
    {
     "name": "stdout",
     "output_type": "stream",
     "text": [
      "<class 'numpy.ndarray'>\n",
      "(240,)\n",
      "<class 'pandas.core.series.Series'>\n",
      "(240,)\n"
     ]
    },
    {
     "data": {
      "text/plain": [
       "SVC(C=1.0, cache_size=200, class_weight=None, coef0=0.0,\n",
       "  decision_function_shape='ovr', degree=3, gamma='auto_deprecated',\n",
       "  kernel='linear', max_iter=-1, probability=False, random_state=None,\n",
       "  shrinking=True, tol=0.001, verbose=False)"
      ]
     },
     "execution_count": 22,
     "metadata": {},
     "output_type": "execute_result"
    }
   ],
   "source": [
    "svclassifier = SVC(kernel='linear') \n",
    "X_train = np.array(X_train)\n",
    "print(type(X_train))\n",
    "print(X_train.shape)\n",
    "print(type(y_train))\n",
    "print(y_train.shape)\n",
    "\n",
    "X_train = np.reshape(X_train, (-1, 1))\n",
    "#y_train = np.reshape(y_train, (-1, 1))\n",
    "svclassifier.fit(X_train, y_train)  "
   ]
  },
  {
   "cell_type": "code",
   "execution_count": 23,
   "metadata": {},
   "outputs": [],
   "source": [
    "type(X_test)\n",
    "X_test = np.array(X_test)\n",
    "\n",
    "X_test = np.reshape(X_test, (-1, 1))\n",
    "X_test.shape\n",
    "y_pred = svclassifier.predict(X_test)  \n"
   ]
  },
  {
   "cell_type": "code",
   "execution_count": 24,
   "metadata": {},
   "outputs": [
    {
     "name": "stdout",
     "output_type": "stream",
     "text": [
      "[[0 0 1 0 0 1 0 1 2 0]\n",
      " [0 6 0 0 0 0 0 0 0 1]\n",
      " [0 0 1 0 0 2 0 1 1 0]\n",
      " [0 0 4 0 0 1 0 0 1 0]\n",
      " [0 2 0 0 0 1 0 0 5 0]\n",
      " [0 0 2 0 0 1 0 1 3 0]\n",
      " [0 2 1 0 0 0 0 0 5 0]\n",
      " [0 0 3 0 0 2 0 0 0 0]\n",
      " [0 3 0 0 0 1 0 0 1 0]\n",
      " [0 0 2 0 0 0 0 0 1 1]]\n",
      "                  precision    recall  f1-score   support\n",
      "\n",
      " Acoustic_guitar       0.00      0.00      0.00         5\n",
      "       Bass_drum       0.46      0.86      0.60         7\n",
      "           Cello       0.07      0.20      0.11         5\n",
      "        Clarinet       0.00      0.00      0.00         6\n",
      "     Double_bass       0.00      0.00      0.00         8\n",
      "           Flute       0.11      0.14      0.12         7\n",
      "          Hi-hat       0.00      0.00      0.00         8\n",
      "       Saxophone       0.00      0.00      0.00         5\n",
      "      Snare_drum       0.05      0.20      0.08         5\n",
      "Violin_or_fiddle       0.50      0.25      0.33         4\n",
      "\n",
      "       micro avg       0.17      0.17      0.17        60\n",
      "       macro avg       0.12      0.16      0.12        60\n",
      "    weighted avg       0.11      0.17      0.12        60\n",
      "\n"
     ]
    },
    {
     "name": "stderr",
     "output_type": "stream",
     "text": [
      "C:\\Users\\user\\Anaconda3\\envs\\aud\\lib\\site-packages\\sklearn\\metrics\\classification.py:1143: UndefinedMetricWarning: Precision and F-score are ill-defined and being set to 0.0 in labels with no predicted samples.\n",
      "  'precision', 'predicted', average, warn_for)\n",
      "C:\\Users\\user\\Anaconda3\\envs\\aud\\lib\\site-packages\\sklearn\\metrics\\classification.py:1143: UndefinedMetricWarning: Precision and F-score are ill-defined and being set to 0.0 in labels with no predicted samples.\n",
      "  'precision', 'predicted', average, warn_for)\n",
      "C:\\Users\\user\\Anaconda3\\envs\\aud\\lib\\site-packages\\sklearn\\metrics\\classification.py:1143: UndefinedMetricWarning: Precision and F-score are ill-defined and being set to 0.0 in labels with no predicted samples.\n",
      "  'precision', 'predicted', average, warn_for)\n"
     ]
    }
   ],
   "source": [
    "print(confusion_matrix(y_test,y_pred))  \n",
    "print(classification_report(y_test,y_pred))  \n"
   ]
  }
 ],
 "metadata": {
  "kernelspec": {
   "display_name": "Python 3",
   "language": "python",
   "name": "python3"
  },
  "language_info": {
   "codemirror_mode": {
    "name": "ipython",
    "version": 3
   },
   "file_extension": ".py",
   "mimetype": "text/x-python",
   "name": "python",
   "nbconvert_exporter": "python",
   "pygments_lexer": "ipython3",
   "version": "3.7.3"
  }
 },
 "nbformat": 4,
 "nbformat_minor": 2
}
