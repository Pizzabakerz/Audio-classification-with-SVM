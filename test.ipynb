{
 "cells": [
  {
   "cell_type": "code",
   "execution_count": 1,
   "metadata": {},
   "outputs": [],
   "source": [
    "import shutil, os\n",
    "import pandas as pd"
   ]
  },
  {
   "cell_type": "code",
   "execution_count": 22,
   "metadata": {},
   "outputs": [
    {
     "data": {
      "text/plain": [
       "270    a64a3740.wav\n",
       "271    ad7ec8cb.wav\n",
       "272    8ee44fb5.wav\n",
       "273    7eb959ec.wav\n",
       "274    e51e1770.wav\n",
       "275    3f7e6da8.wav\n",
       "276    3cbe9902.wav\n",
       "277    9a722e53.wav\n",
       "278    19105b8a.wav\n",
       "279    1f81cc2b.wav\n",
       "280    44c5094c.wav\n",
       "281    5506629f.wav\n",
       "282    ddf23920.wav\n",
       "283    2e1cd085.wav\n",
       "284    dc981a38.wav\n",
       "285    a053797b.wav\n",
       "286    f2310f0d.wav\n",
       "287    ce65d6b5.wav\n",
       "288    45de3233.wav\n",
       "289    8916ffcd.wav\n",
       "290    e43f7db2.wav\n",
       "291    3c66098d.wav\n",
       "292    ad42e493.wav\n",
       "293    740e5bb7.wav\n",
       "294    800b401e.wav\n",
       "295    3c713bcf.wav\n",
       "296    2fc00271.wav\n",
       "297    b0c06255.wav\n",
       "298    71c6451f.wav\n",
       "299    5de123c3.wav\n",
       "Name: fname, dtype: object"
      ]
     },
     "execution_count": 22,
     "metadata": {},
     "output_type": "execute_result"
    }
   ],
   "source": [
    "df = pd.read_csv('instruments.csv')\n",
    "f = df[270:300]['fname']\n",
    "f\n",
    "\n"
   ]
  },
  {
   "cell_type": "code",
   "execution_count": 4,
   "metadata": {},
   "outputs": [
    {
     "data": {
      "text/plain": [
       "'hi\\\\078f7ac0.wav'"
      ]
     },
     "execution_count": 4,
     "metadata": {},
     "output_type": "execute_result"
    }
   ],
   "source": [
    "shutil.copy(\"clean/\"+f[60],\"hi\")"
   ]
  },
  {
   "cell_type": "code",
   "execution_count": 24,
   "metadata": {},
   "outputs": [],
   "source": [
    "a = 270\n",
    "for i in range(0,30):\n",
    "    shutil.copy(\"clean/\"+f[a],\"clarinet\")\n",
    "    a = a+1"
   ]
  },
  {
   "cell_type": "code",
   "execution_count": null,
   "metadata": {},
   "outputs": [],
   "source": []
  },
  {
   "cell_type": "code",
   "execution_count": null,
   "metadata": {},
   "outputs": [],
   "source": []
  },
  {
   "cell_type": "code",
   "execution_count": null,
   "metadata": {},
   "outputs": [],
   "source": []
  }
 ],
 "metadata": {
  "kernelspec": {
   "display_name": "Python 3",
   "language": "python",
   "name": "python3"
  },
  "language_info": {
   "codemirror_mode": {
    "name": "ipython",
    "version": 3
   },
   "file_extension": ".py",
   "mimetype": "text/x-python",
   "name": "python",
   "nbconvert_exporter": "python",
   "pygments_lexer": "ipython3",
   "version": "3.7.3"
  }
 },
 "nbformat": 4,
 "nbformat_minor": 2
}
