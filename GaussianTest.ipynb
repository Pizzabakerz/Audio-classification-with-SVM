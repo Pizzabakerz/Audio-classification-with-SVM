{
 "cells": [
  {
   "cell_type": "code",
   "execution_count": 9,
   "metadata": {},
   "outputs": [],
   "source": [
    "import numpy as np\n",
    "import sklearn\n",
    "from sklearn.svm import SVC\n",
    "from sklearn.model_selection import train_test_split\n",
    "from sklearn.model_selection import GridSearchCV\n",
    "from sklearn.metrics import classification_report,confusion_matrix  \n",
    "import warnings\n",
    "import seaborn as sns\n",
    "import pandas as pd\n",
    "import matplotlib.pyplot as plt\n",
    "warnings.filterwarnings('ignore')"
   ]
  },
  {
   "cell_type": "code",
   "execution_count": null,
   "metadata": {},
   "outputs": [],
   "source": []
  },
  {
   "cell_type": "code",
   "execution_count": 10,
   "metadata": {},
   "outputs": [],
   "source": [
    "# Load data from numpy file\n",
    "X =  np.load('feat.npy')\n",
    "y =  np.load('label.npy').ravel()"
   ]
  },
  {
   "cell_type": "code",
   "execution_count": 11,
   "metadata": {},
   "outputs": [],
   "source": [
    "# Split data into training and test subsets\n",
    "X_train, X_test, y_train, y_test = train_test_split(X, y, test_size=0.4, random_state=0)"
   ]
  },
  {
   "cell_type": "code",
   "execution_count": 12,
   "metadata": {},
   "outputs": [
    {
     "name": "stdout",
     "output_type": "stream",
     "text": [
      "fitting...\n",
      "acc=0.725\n"
     ]
    }
   ],
   "source": [
    "# Simple SVM\n",
    "print('fitting...')\n",
    "clf = SVC(C=20.0, gamma=0.00001)\n",
    "clf.fit(X_train, y_train)\n",
    "acc = clf.score(X_test, y_test)\n",
    "print(\"acc=%0.3f\" % acc)"
   ]
  },
  {
   "cell_type": "code",
   "execution_count": 13,
   "metadata": {},
   "outputs": [],
   "source": [
    "\n",
    "# Grid search for best parameters\n",
    "# Set the parameters by cross-validation\n",
    "tuned_parameters = [{'kernel': ['rbf'], 'gamma': [1e-3, 1e-4, 1e-5],\n",
    "                     'C': [1, 10 ,20,30,40,50]}]"
   ]
  },
  {
   "cell_type": "code",
   "execution_count": 14,
   "metadata": {},
   "outputs": [
    {
     "name": "stdout",
     "output_type": "stream",
     "text": [
      "# Tuning hyper-parameters for precision\n",
      "\n",
      "Best parameters set found on development set:\n",
      "\n",
      "{'C': 30, 'gamma': 1e-05, 'kernel': 'rbf'}\n",
      "\n",
      "Grid scores on development set:\n",
      "\n",
      "# Tuning hyper-parameters for recall\n",
      "\n",
      "Best parameters set found on development set:\n",
      "\n",
      "{'C': 40, 'gamma': 1e-05, 'kernel': 'rbf'}\n",
      "\n",
      "Grid scores on development set:\n",
      "\n"
     ]
    }
   ],
   "source": [
    "scores = ['precision', 'recall']\n",
    "\n",
    "for score in scores:\n",
    "    print(\"# Tuning hyper-parameters for %s\" % score)\n",
    "    print('')\n",
    "\n",
    "    clf = GridSearchCV(SVC(), tuned_parameters, cv=5,\n",
    "                       scoring='%s_macro' % score)\n",
    "    clf.fit(X_train, y_train)\n",
    "\n",
    "    print(\"Best parameters set found on development set:\")\n",
    "    print('')\n",
    "    print(clf.best_params_)\n",
    "    print('')\n",
    "    print(\"Grid scores on development set:\")\n",
    "    print('')\n",
    "    means = clf.cv_results_['mean_test_score']\n",
    "    stds = clf.cv_results_['std_test_score']"
   ]
  },
  {
   "cell_type": "code",
   "execution_count": 15,
   "metadata": {},
   "outputs": [
    {
     "name": "stdout",
     "output_type": "stream",
     "text": [
      "0.306 (+/-0.117) for {'C': 1, 'gamma': 0.001, 'kernel': 'rbf'}\n",
      "0.585 (+/-0.150) for {'C': 1, 'gamma': 0.0001, 'kernel': 'rbf'}\n",
      "0.576 (+/-0.145) for {'C': 1, 'gamma': 1e-05, 'kernel': 'rbf'}\n",
      "0.336 (+/-0.113) for {'C': 10, 'gamma': 0.001, 'kernel': 'rbf'}\n",
      "0.592 (+/-0.123) for {'C': 10, 'gamma': 0.0001, 'kernel': 'rbf'}\n",
      "0.682 (+/-0.064) for {'C': 10, 'gamma': 1e-05, 'kernel': 'rbf'}\n",
      "0.336 (+/-0.113) for {'C': 20, 'gamma': 0.001, 'kernel': 'rbf'}\n",
      "0.592 (+/-0.123) for {'C': 20, 'gamma': 0.0001, 'kernel': 'rbf'}\n",
      "0.667 (+/-0.110) for {'C': 20, 'gamma': 1e-05, 'kernel': 'rbf'}\n",
      "0.336 (+/-0.113) for {'C': 30, 'gamma': 0.001, 'kernel': 'rbf'}\n",
      "0.592 (+/-0.123) for {'C': 30, 'gamma': 0.0001, 'kernel': 'rbf'}\n",
      "0.695 (+/-0.133) for {'C': 30, 'gamma': 1e-05, 'kernel': 'rbf'}\n",
      "0.336 (+/-0.113) for {'C': 40, 'gamma': 0.001, 'kernel': 'rbf'}\n",
      "0.592 (+/-0.123) for {'C': 40, 'gamma': 0.0001, 'kernel': 'rbf'}\n",
      "0.700 (+/-0.149) for {'C': 40, 'gamma': 1e-05, 'kernel': 'rbf'}\n",
      "0.336 (+/-0.113) for {'C': 50, 'gamma': 0.001, 'kernel': 'rbf'}\n",
      "0.592 (+/-0.123) for {'C': 50, 'gamma': 0.0001, 'kernel': 'rbf'}\n",
      "0.700 (+/-0.149) for {'C': 50, 'gamma': 1e-05, 'kernel': 'rbf'}\n",
      "\n",
      "Detailed classification report:\n",
      "\n",
      "The model is trained on the full development set.\n",
      "The scores are computed on the full evaluation set.\n",
      "\n",
      "              precision    recall  f1-score   support\n",
      "\n",
      "           0       0.56      0.91      0.69        11\n",
      "           1       0.64      0.90      0.75        10\n",
      "           2       0.89      0.73      0.80        11\n",
      "           3       0.75      0.82      0.78        11\n",
      "           4       0.38      0.30      0.33        10\n",
      "           5       0.61      0.79      0.69        14\n",
      "           6       1.00      0.55      0.71        11\n",
      "           7       0.92      0.58      0.71        19\n",
      "           8       0.67      0.89      0.76         9\n",
      "           9       0.82      0.64      0.72        14\n",
      "\n",
      "   micro avg       0.70      0.70      0.70       120\n",
      "   macro avg       0.72      0.71      0.69       120\n",
      "weighted avg       0.74      0.70      0.70       120\n",
      "\n",
      "\n"
     ]
    }
   ],
   "source": [
    " for mean, std, params in zip(means, stds, clf.cv_results_['params']):\n",
    "        print(\"%0.3f (+/-%0.03f) for %r\"\n",
    "              % (mean, std * 2, params))\n",
    "print('')\n",
    "\n",
    "print(\"Detailed classification report:\")\n",
    "print('')\n",
    "print(\"The model is trained on the full development set.\")\n",
    "print(\"The scores are computed on the full evaluation set.\")\n",
    "print('')\n",
    "y_true, y_pred = y_test, clf.predict(X_test)\n",
    "print(classification_report(y_true, y_pred))\n",
    "print('')\n"
   ]
  },
  {
   "cell_type": "code",
   "execution_count": 16,
   "metadata": {},
   "outputs": [
    {
     "data": {
      "image/png": "[encoded data removed]",
      "text/plain": [
       "<Figure size 720x720 with 2 Axes>"
      ]
     },
     "metadata": {
      "needs_background": "light"
     },
     "output_type": "display_data"
    }
   ],
   "source": [
    "labels = [0,1,2,3,4,5,6,7,8,9]\n",
    "\n",
    "def cm_analysis(y_true, y_pred, filename, labels, ymap=None, figsize=(10,10)):\n",
    "    if ymap is not None:\n",
    "        y_pred = [ymap[yi] for yi in y_pred]\n",
    "        y_true = [ymap[yi] for yi in y_true]\n",
    "        labels = [ymap[yi] for yi in labels]\n",
    "    cm = confusion_matrix(y_true, y_pred, labels=labels)\n",
    "    cm_sum = np.sum(cm, axis=1, keepdims=True)\n",
    "    cm_perc = cm / cm_sum.astype(float) * 100\n",
    "    annot = np.empty_like(cm).astype(str)\n",
    "    nrows, ncols = cm.shape\n",
    "    for i in range(nrows):\n",
    "        for j in range(ncols):\n",
    "            c = cm[i, j]\n",
    "            p = cm_perc[i, j]\n",
    "            if i == j:\n",
    "                s = cm_sum[i]\n",
    "                annot[i, j] = '%.1f%%\\n%d/%d' % (p, c, s)\n",
    "            elif c == 0:\n",
    "                annot[i, j] = ''\n",
    "            else:\n",
    "                annot[i, j] = '%.1f%%\\n%d' % (p, c)\n",
    "    cm = pd.DataFrame(cm, index=labels, columns=labels)\n",
    "    cm.index.name = 'Actual'\n",
    "    cm.columns.name = 'Predicted accuracy'\n",
    "    fig, ax = plt.subplots(figsize=figsize)\n",
    "    sns.heatmap(cm, annot=annot, fmt='', ax=ax)\n",
    "    plt.savefig(filename)\n",
    "    \n",
    "    \n",
    "cm_analysis(y_true, y_pred,\"gaussian\", labels, ymap=None, figsize=(10,10))"
   ]
  },
  {
   "cell_type": "code",
   "execution_count": null,
   "metadata": {},
   "outputs": [],
   "source": []
  }
 ],
 "metadata": {
  "kernelspec": {
   "display_name": "Python 3",
   "language": "python",
   "name": "python3"
  },
  "language_info": {
   "codemirror_mode": {
    "name": "ipython",
    "version": 3
   },
   "file_extension": ".py",
   "mimetype": "text/x-python",
   "name": "python",
   "nbconvert_exporter": "python",
   "pygments_lexer": "ipython3",
   "version": "3.7.1"
  }
 },
 "nbformat": 4,
 "nbformat_minor": 2
}
